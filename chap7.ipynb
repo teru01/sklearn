{
 "cells": [
  {
   "cell_type": "code",
   "execution_count": 1,
   "metadata": {},
   "outputs": [
    {
     "name": "stderr",
     "output_type": "stream",
     "text": [
      "/opt/conda/lib/python3.6/site-packages/sklearn/utils/fixes.py:313: FutureWarning: numpy not_equal will not check object identity in the future. The comparison did not return the same result as suggested by the identity (`is`)) and will change.\n",
      "  _nan_object_mask = _nan_object_array != _nan_object_array\n"
     ]
    }
   ],
   "source": [
    "import numpy as np\n",
    "import matplotlib.pyplot as plt\n",
    "import pandas as pd\n",
    "from IPython.display import display\n",
    "import mglearn"
   ]
  },
  {
   "cell_type": "code",
   "execution_count": 3,
   "metadata": {},
   "outputs": [],
   "source": [
    "from sklearn.datasets import load_files\n",
    "rev_train = load_files(\"txt_data/train\")\n",
    "text_train, y_train = rev_train.data, rev_train.target"
   ]
  },
  {
   "cell_type": "code",
   "execution_count": 4,
   "metadata": {},
   "outputs": [],
   "source": [
    "text_train = [doc.replace(b\"<br />\", b\" \") for doc in text_train]"
   ]
  },
  {
   "cell_type": "code",
   "execution_count": 7,
   "metadata": {},
   "outputs": [
    {
     "data": {
      "text/plain": [
       "array([12500, 12500])"
      ]
     },
     "execution_count": 7,
     "metadata": {},
     "output_type": "execute_result"
    }
   ],
   "source": [
    "np.bincount(y_test)"
   ]
  },
  {
   "cell_type": "code",
   "execution_count": 6,
   "metadata": {},
   "outputs": [],
   "source": [
    "rev_test = load_files(\"txt_data/test\")\n",
    "text_test, y_test = rev_test.data, rev_test.target"
   ]
  },
  {
   "cell_type": "code",
   "execution_count": 8,
   "metadata": {},
   "outputs": [
    {
     "data": {
      "text/plain": [
       "CountVectorizer(analyzer='word', binary=False, decode_error='strict',\n",
       "        dtype=<class 'numpy.int64'>, encoding='utf-8', input='content',\n",
       "        lowercase=True, max_df=1.0, max_features=None, min_df=1,\n",
       "        ngram_range=(1, 1), preprocessor=None, stop_words=None,\n",
       "        strip_accents=None, token_pattern='(?u)\\\\b\\\\w\\\\w+\\\\b',\n",
       "        tokenizer=None, vocabulary=None)"
      ]
     },
     "execution_count": 8,
     "metadata": {},
     "output_type": "execute_result"
    }
   ],
   "source": [
    "from sklearn.feature_extraction.text import CountVectorizer\n",
    "vect = CountVectorizer()\n",
    "w = [\"The fool doth think he is wise,\",\"but the wise man knows himself to be a fool\"]\n",
    "vect.fit(w)"
   ]
  },
  {
   "cell_type": "code",
   "execution_count": 9,
   "metadata": {},
   "outputs": [
    {
     "data": {
      "text/plain": [
       "{'be': 0,\n",
       " 'but': 1,\n",
       " 'doth': 2,\n",
       " 'fool': 3,\n",
       " 'he': 4,\n",
       " 'himself': 5,\n",
       " 'is': 6,\n",
       " 'knows': 7,\n",
       " 'man': 8,\n",
       " 'the': 9,\n",
       " 'think': 10,\n",
       " 'to': 11,\n",
       " 'wise': 12}"
      ]
     },
     "execution_count": 9,
     "metadata": {},
     "output_type": "execute_result"
    }
   ],
   "source": [
    "vect.vocabulary_"
   ]
  },
  {
   "cell_type": "code",
   "execution_count": 12,
   "metadata": {},
   "outputs": [
    {
     "name": "stdout",
     "output_type": "stream",
     "text": [
      "  (0, 2)\t1\n",
      "  (0, 3)\t1\n",
      "  (0, 4)\t1\n",
      "  (0, 6)\t1\n",
      "  (0, 9)\t1\n",
      "  (0, 10)\t1\n",
      "  (0, 12)\t1\n",
      "  (1, 0)\t1\n",
      "  (1, 1)\t1\n",
      "  (1, 3)\t1\n",
      "  (1, 5)\t1\n",
      "  (1, 7)\t1\n",
      "  (1, 8)\t1\n",
      "  (1, 9)\t1\n",
      "  (1, 11)\t1\n",
      "  (1, 12)\t1\n",
      "[[0 0 1 1 1 0 1 0 0 1 1 0 1]\n",
      " [1 1 0 1 0 1 0 1 1 1 0 1 1]]\n"
     ]
    }
   ],
   "source": [
    "bow = vect.transform(w)\n",
    "print(bow)\n",
    "print(bow.toarray())"
   ]
  },
  {
   "cell_type": "code",
   "execution_count": 13,
   "metadata": {},
   "outputs": [],
   "source": [
    "vect = CountVectorizer().fit(text_train)\n",
    "X_train = vect.transform(text_train)"
   ]
  },
  {
   "cell_type": "code",
   "execution_count": 14,
   "metadata": {},
   "outputs": [
    {
     "data": {
      "text/plain": [
       "(25000, 74849)"
      ]
     },
     "execution_count": 14,
     "metadata": {},
     "output_type": "execute_result"
    }
   ],
   "source": [
    "X_train.shape"
   ]
  },
  {
   "cell_type": "code",
   "execution_count": 18,
   "metadata": {},
   "outputs": [
    {
     "name": "stdout",
     "output_type": "stream",
     "text": [
      "['était', 'état', 'étc', 'évery', 'êxtase', 'ís', 'ísnt', 'østbye', 'über', 'üvegtigris']\n"
     ]
    }
   ],
   "source": [
    "fnames = vect.get_feature_names()\n",
    "print(fnames[-10:])"
   ]
  },
  {
   "cell_type": "code",
   "execution_count": 19,
   "metadata": {},
   "outputs": [
    {
     "name": "stderr",
     "output_type": "stream",
     "text": [
      "/opt/conda/lib/python3.6/site-packages/sklearn/linear_model/logistic.py:432: FutureWarning: Default solver will be changed to 'lbfgs' in 0.22. Specify a solver to silence this warning.\n",
      "  FutureWarning)\n"
     ]
    },
    {
     "data": {
      "text/plain": [
       "0.88127999999999995"
      ]
     },
     "execution_count": 19,
     "metadata": {},
     "output_type": "execute_result"
    }
   ],
   "source": [
    "from sklearn.model_selection import cross_val_score\n",
    "from sklearn.linear_model import LogisticRegression\n",
    "scores = cross_val_score(LogisticRegression(), X_train, y_train, cv=5)\n",
    "np.mean(scores)"
   ]
  },
  {
   "cell_type": "code",
   "execution_count": 36,
   "metadata": {},
   "outputs": [
    {
     "name": "stderr",
     "output_type": "stream",
     "text": [
      "/opt/conda/lib/python3.6/site-packages/sklearn/linear_model/logistic.py:432: FutureWarning: Default solver will be changed to 'lbfgs' in 0.22. Specify a solver to silence this warning.\n",
      "  FutureWarning)\n"
     ]
    },
    {
     "name": "stdout",
     "output_type": "stream",
     "text": [
      "0.88148\n"
     ]
    }
   ],
   "source": [
    "from sklearn.model_selection import GridSearchCV\n",
    "param_grid = {'C':[0.001, 0.01, 0.1, 1, 10]}\n",
    "grid = GridSearchCV(LogisticRegression(), param_grid, cv=5)\n",
    "grid.fit(X_train, y_train)\n",
    "print(grid.best_score_)"
   ]
  },
  {
   "cell_type": "code",
   "execution_count": 37,
   "metadata": {},
   "outputs": [
    {
     "name": "stdout",
     "output_type": "stream",
     "text": [
      "{'C': 0.1}\n"
     ]
    }
   ],
   "source": [
    "print(grid.best_params_)"
   ]
  },
  {
   "cell_type": "code",
   "execution_count": 38,
   "metadata": {},
   "outputs": [
    {
     "data": {
      "text/plain": [
       "0.87292000000000003"
      ]
     },
     "execution_count": 38,
     "metadata": {},
     "output_type": "execute_result"
    }
   ],
   "source": [
    "X_test = vect.transform(text_test)\n",
    "grid.score(X_test, y_test)"
   ]
  },
  {
   "cell_type": "code",
   "execution_count": 23,
   "metadata": {},
   "outputs": [],
   "source": [
    "vect = CountVectorizer(min_df=5).fit(text_train)\n",
    "X_train = vect.transform(text_train)"
   ]
  },
  {
   "cell_type": "code",
   "execution_count": 28,
   "metadata": {},
   "outputs": [
    {
     "name": "stdout",
     "output_type": "stream",
     "text": [
      "['00', '000', '007', '00s', '01', '02', '03', '04', '05', '06']\n",
      "27271\n"
     ]
    }
   ],
   "source": [
    "fnames = vect.get_feature_names()\n",
    "print(fnames[:10])\n",
    "print(len(fnames))"
   ]
  },
  {
   "cell_type": "code",
   "execution_count": 33,
   "metadata": {
    "collapsed": true
   },
   "outputs": [
    {
     "data": {
      "text/plain": [
       "['please',\n",
       " 'for',\n",
       " 'several',\n",
       " 'call',\n",
       " 'cant',\n",
       " 'or',\n",
       " 'too',\n",
       " 're',\n",
       " 'you',\n",
       " 'anyone',\n",
       " 'nowhere',\n",
       " 'us',\n",
       " 'seeming',\n",
       " 'have',\n",
       " 'were',\n",
       " 'hundred']"
      ]
     },
     "execution_count": 33,
     "metadata": {},
     "output_type": "execute_result"
    }
   ],
   "source": [
    "from sklearn.feature_extraction.text import ENGLISH_STOP_WORDS\n",
    "list(ENGLISH_STOP_WORDS)[::20]"
   ]
  },
  {
   "cell_type": "code",
   "execution_count": 34,
   "metadata": {},
   "outputs": [],
   "source": [
    "vect = CountVectorizer(min_df=5, stop_words='english').fit(text_test)\n",
    "X_train = vect.transform(text_train)"
   ]
  },
  {
   "cell_type": "code",
   "execution_count": 35,
   "metadata": {},
   "outputs": [
    {
     "data": {
      "text/plain": [
       "(25000, 26446)"
      ]
     },
     "execution_count": 35,
     "metadata": {},
     "output_type": "execute_result"
    }
   ],
   "source": [
    "X_train.shape"
   ]
  },
  {
   "cell_type": "code",
   "execution_count": 41,
   "metadata": {},
   "outputs": [
    {
     "name": "stderr",
     "output_type": "stream",
     "text": [
      "/opt/conda/lib/python3.6/site-packages/sklearn/linear_model/logistic.py:432: FutureWarning: Default solver will be changed to 'lbfgs' in 0.22. Specify a solver to silence this warning.\n",
      "  FutureWarning)\n"
     ]
    },
    {
     "name": "stdout",
     "output_type": "stream",
     "text": [
      "0.89392\n"
     ]
    }
   ],
   "source": [
    "from sklearn.feature_extraction.text import TfidfVectorizer\n",
    "from sklearn.pipeline import make_pipeline\n",
    "pipe = make_pipeline(TfidfVectorizer(min_df=5, norm=None), LogisticRegression())\n",
    "param_grid = {'logisticregression__C':[0.001, 0.01, 0.1, 1, 10]}\n",
    "grid = GridSearchCV(pipe, param_grid, cv=5)\n",
    "grid.fit(text_train, y_train)\n",
    "print(grid.best_score_)"
   ]
  },
  {
   "cell_type": "code",
   "execution_count": 45,
   "metadata": {},
   "outputs": [
    {
     "data": {
      "text/plain": [
       "(25000, 27271)"
      ]
     },
     "execution_count": 45,
     "metadata": {},
     "output_type": "execute_result"
    }
   ],
   "source": [
    "vectorizer = grid.best_estimator_.named_steps['tfidfvectorizer']\n",
    "X_train = vectorizer.transform(text_train)\n",
    "X_train.shape"
   ]
  },
  {
   "cell_type": "code",
   "execution_count": 47,
   "metadata": {},
   "outputs": [
    {
     "name": "stdout",
     "output_type": "stream",
     "text": [
      "[ 20.15985557  34.37105041  16.70816476 ...,  25.46284132  28.0047349\n",
      "   9.33491163]\n"
     ]
    }
   ],
   "source": [
    "max_value = X_train.max(axis=0).toarray().ravel()\n",
    "print(max_value)"
   ]
  },
  {
   "cell_type": "code",
   "execution_count": 48,
   "metadata": {},
   "outputs": [
    {
     "name": "stdout",
     "output_type": "stream",
     "text": [
      "['poignant' 'disagree' 'instantly' 'importantly' 'lacked' 'occurred'\n",
      " 'currently' 'altogether' 'nearby' 'undoubtedly' 'directs' 'fond' 'stinker'\n",
      " 'avoided' 'emphasis' 'commented' 'disappoint' 'realizing' 'downhill'\n",
      " 'inane']\n"
     ]
    }
   ],
   "source": [
    "sorted_by_tfidf = max_value.argsort()\n",
    "feature_names = np.array(vectorizer.get_feature_names())\n",
    "print(feature_names[sorted_by_tfidf[:20]])\n"
   ]
  },
  {
   "cell_type": "code",
   "execution_count": 49,
   "metadata": {},
   "outputs": [
    {
     "name": "stdout",
     "output_type": "stream",
     "text": [
      "['coop' 'homer' 'dillinger' 'hackenstein' 'gadget' 'taker' 'macarthur'\n",
      " 'vargas' 'jesse' 'basket' 'dominick' 'the' 'victor' 'bridget' 'victoria'\n",
      " 'khouri' 'zizek' 'rob' 'timon' 'titanic']\n"
     ]
    }
   ],
   "source": [
    "print(feature_names[sorted_by_tfidf[-20:]])"
   ]
  },
  {
   "cell_type": "code",
   "execution_count": 51,
   "metadata": {},
   "outputs": [
    {
     "name": "stdout",
     "output_type": "stream",
     "text": [
      "['tenement' 'tenements' 'tenets' 'preclude' 'gravelly' 'grandest' 'gravely'\n",
      " 'greendale' 'tenure' 'calligraphy' 'tepper' 'prc' 'greenstreet'\n",
      " 'callaghan' 'caligula' 'pratfall' 'prankster' 'prakash' 'grayce' 'émigré']\n",
      "['the' 'and' 'of' 'to' 'this' 'is' 'it' 'in' 'that' 'but' 'for' 'with'\n",
      " 'was' 'as' 'on' 'movie' 'not' 'have' 'one' 'be']\n"
     ]
    }
   ],
   "source": [
    "sorted_by_idf = np.argsort(vectorizer.idf_)\n",
    "print(feature_names[sorted_by_idf[-20:]])\n",
    "print(feature_names[sorted_by_idf[:20]])"
   ]
  },
  {
   "cell_type": "code",
   "execution_count": 61,
   "metadata": {},
   "outputs": [
    {
     "name": "stdout",
     "output_type": "stream",
     "text": [
      "{'the fool': 33, 'fool doth': 13, 'doth think': 9, 'think he': 46, 'he is': 18, 'is wise': 23, 'the fool doth': 34, 'fool doth think': 14, 'doth think he': 10, 'think he is': 47, 'he is wise': 19, 'the fool doth think': 35, 'fool doth think he': 15, 'doth think he is': 11, 'think he is wise': 48, 'the fool doth think he': 36, 'fool doth think he is': 16, 'doth think he is wise': 12, 'the fool doth think he is': 37, 'fool doth think he is wise': 17, 'the fool doth think he is wise': 38, 'but the': 1, 'the wise': 39, 'wise man': 51, 'man knows': 28, 'knows himself': 24, 'himself to': 20, 'to be': 49, 'be fool': 0, 'but the wise': 2, 'the wise man': 40, 'wise man knows': 52, 'man knows himself': 29, 'knows himself to': 25, 'himself to be': 21, 'to be fool': 50, 'but the wise man': 3, 'the wise man knows': 41, 'wise man knows himself': 53, 'man knows himself to': 30, 'knows himself to be': 26, 'himself to be fool': 22, 'but the wise man knows': 4, 'the wise man knows himself': 42, 'wise man knows himself to': 54, 'man knows himself to be': 31, 'knows himself to be fool': 27, 'but the wise man knows himself': 5, 'the wise man knows himself to': 43, 'wise man knows himself to be': 55, 'man knows himself to be fool': 32, 'but the wise man knows himself to': 6, 'the wise man knows himself to be': 44, 'wise man knows himself to be fool': 56, 'but the wise man knows himself to be': 7, 'the wise man knows himself to be fool': 45, 'but the wise man knows himself to be fool': 8}\n"
     ]
    }
   ],
   "source": [
    "cv = CountVectorizer(ngram_range=(2,10)).fit(w)\n",
    "print(cv.vocabulary_)"
   ]
  },
  {
   "cell_type": "code",
   "execution_count": 62,
   "metadata": {},
   "outputs": [
    {
     "name": "stderr",
     "output_type": "stream",
     "text": [
      "/opt/conda/lib/python3.6/site-packages/sklearn/decomposition/online_lda.py:314: DeprecationWarning: n_topics has been renamed to n_components in version 0.19 and will be removed in 0.21\n",
      "  DeprecationWarning)\n"
     ]
    }
   ],
   "source": [
    "vect = CountVectorizer(max_features=10000, max_df=.15)\n",
    "X = vect.fit_transform(text_train)\n",
    "from sklearn.decomposition import LatentDirichletAllocation\n",
    "lda = LatentDirichletAllocation(n_topics=10, learning_method=\"batch\", max_iter=25)\n",
    "document_topics = lda.fit_transform(X)"
   ]
  },
  {
   "cell_type": "code",
   "execution_count": 66,
   "metadata": {},
   "outputs": [
    {
     "data": {
      "text/plain": [
       "(25000, 10)"
      ]
     },
     "execution_count": 66,
     "metadata": {},
     "output_type": "execute_result"
    }
   ],
   "source": [
    "lda.components_.shape\n",
    "document_topics.shape"
   ]
  },
  {
   "cell_type": "code",
   "execution_count": 65,
   "metadata": {},
   "outputs": [
    {
     "name": "stdout",
     "output_type": "stream",
     "text": [
      "topic 0       topic 1       topic 2       topic 3       topic 4       \n",
      "--------      --------      --------      --------      --------      \n",
      "action        horror        music         comedy        war           \n",
      "effects       director      musical       role          world         \n",
      "zombie        quite         song          cast          american      \n",
      "special       interesting   songs         performance   documentary   \n",
      "fight         nothing       dance         actors        us            \n",
      "evil          script        jane          funny         history       \n",
      "zombies       pretty        dancing       actor         years         \n",
      "monster       though        singing       excellent     our           \n",
      "fi            seems         rock          wonderful     black         \n",
      "sci           however       kelly         always        political     \n",
      "\n",
      "\n",
      "topic 5       topic 6       topic 7       topic 8       topic 9       \n",
      "--------      --------      --------      --------      --------      \n",
      "police        show          us            family        funny         \n",
      "murder        series        between       young         thing         \n",
      "killer        episode       own           father        didn          \n",
      "crime         tv            may           wife          want          \n",
      "gets          episodes      real          mother        worst         \n",
      "role          new           world         girl          guy           \n",
      "action        shows         director      house         re            \n",
      "cop           years         each          old           got           \n",
      "john          animation     work          woman         going         \n",
      "plays         original      without       son           actually      \n",
      "\n",
      "\n"
     ]
    }
   ],
   "source": [
    "sorting = np.argsort(lda.components_, axis=1)[:, ::-1]\n",
    "feature_names = np.array(vect.get_feature_names())\n",
    "mglearn.tools.print_topics(topics=range(10), feature_names=feature_names, sorting=sorting, topics_per_chunk=5, n_words=10)"
   ]
  },
  {
   "cell_type": "code",
   "execution_count": 68,
   "metadata": {},
   "outputs": [
    {
     "name": "stdout",
     "output_type": "stream",
     "text": [
      "b'Fred Astaire and Ginger Rogers, Hollywood\\'s premiere dance team, were usually dressed to the nines and gliding through elaborately exaggerated Art Deco sets in the 1930\\'s. However, they go a bit more downscale for this 1936 outing, the fifth of their ten musicals together. This time, Astaire foregoes his top hat, white tie and tails to become a bubblegum-chewing sailor named \"Bake\" Baker; and Rogers plays dance hall entertainer Sherry Martin, who was Bake\\'s partner - dancing and otherwise - before he enlisted. Consequently, unlike the mistaken identity ploys and romantic hesitancies prevalent in most of their previous pairings, they are already a couple from the film\\'s outset.  Directed by Mark Sandrich (who guided five of their pairings), the film bears a narrative similarity to 1935\\'s \"Roberta\" in which they are but one of two couples featured in the storyline. In fact, Randolph Scott plays the other male lead in both films, this time as Bake\\'s womanizing crewmate, \"Bilge\" Smith. He is partnered with not Irene Dunne (who understandably turned down this follow-up) but Harriet Hilliard. Just married to Ozzie Nelson in real life and decades before Ozzie & Harriet, Hilliard plays Sherry\\'s spinsterish sister Connie who falls hard for Bilge. In the silly plot, she is given a makeover by a young, bleached blonde Lucille Ball, and there is s classic three-way shot of Hilliard, Ball and a kewpie-doll adorable Betty Grable in front of a mirror.  Speaking of the story, what there is of one is credited to Allan Scott and Dwight Taylor and goes something like this...Bake and Bilge are on shore leave in San Francisco where they end up in a dance hall with their rowdy shipmates. Bake finds Sherry working there, while Bilge runs into Connie first when she comes in as a dowdy spinster and then showing up as a glamour girl. Romance blooms for both couples. Connie and Sherry inherit a steamer from their father, but they need money to keep it afloat. Multiple misunderstandings occur in both relationships, but it all works out when they turn the steamer into a theater and put on a fundraising musical revue. It\\'s about as silly as it sounds, but it does provide a good excuse for some memorable Irving Berlin tunes and a trio of Astaire-Rogers dances.  The first two are casual in tone - a dance contest set to the percolating \"Let Yourself Go\" where they show off mercilessly to win and a physical shipboard comedy routine set to the toe-tapping \"I\\'m Putting All My Eggs in One Basket\". However, their last dance is a classic return to formality with a melodramatic piece beautifully set to a stunning arrangement of \"Let\\'s Face the Music and Dance\". Intriguingly, this movie contains not only an Astaire dance solo but the only time Rogers ever had a dance solo to herself in one of their movies, an energetic tap routine again set to \"Let Yourself Go\". Dressed in a creamy satin sailor outfit, she also sings the same song most winningly near the beginning of the film.  Acting-wise, Astaire and Rogers are in typically zesty comic form here. While Scott plays his role with his trademark cock-eyed virility, Hilliard is an extremely dull presence, and as a former band singer, she performs two Berlin love songs in a frustratingly diffident manner. Regardless, the magic generated by Astaire and Rogers in their prime make this essential viewing. The 2005 DVD has several good extras beginning with a thirteen-minute featurette, \"Follow the Fleet: The Origins of Those Dancing Feet,\" about how Astaire and Rogers started to work together. There is also a live-action \"soundie\" called \"Melody Master: Jimmie Lunceford and his Dance Orchestra\", a poultry-themed cartoon called \"Let It Be Me,\" and the original theatrical trailer.\\n'\n",
      "b'Plot is never the strong point of a Fred Astaire and Ginger Rogers movie, but \"Follow the Fleet\"\\'s screenplay is exceptionally mediocre. Fred and Ginger still come off all right--they play \"Bake\" Baker and Sherry Martin, dancers whose personal and professional partnership ended when Bake joined the Navy. When they meet again, their love-hate relationship generates some entertaining comic moments. But for much of the movie, they take a backseat to a tedious subplot about Sherry\\'s sister Connie (Harriet Hilliard), her love for sailor Bilge Smith (Randolph Scott), Bilge\\'s dalliance with another woman, and an old schooner that Connie inherited from her father. Though Hilliard is rather charming, this plot is uninteresting.  But at the same time, \"Follow the Fleet\" is blessed with an exceptional Irving Berlin score that gives the stars plenty of chances to show off their talents. Astaire gets two good solos with \"We Saw the Sea\" and \"I\\'d Rather Lead a Band.\" He sings expressively and, of course, dances electrifyingly--and the sailor suit makes him look a little more boyish and athletic than usual. Rogers sings the catchy \"Let Yourself Go\" and later does a solo tap-dance to the same tune.   The three duets really save the film, even though they\\'re all shoehorned into the plot with silly excuses. Fred and Ginger win a dance contest by doing an energetic routine to another reprise of \"Let Yourself Go\". Later, they sing and dance \"I\\'m Putting All My Eggs in One Basket\" as if it were an early rehearsal of the number, flubbing the choreography to comic effect. At the end, the movie finally figures out how to get Fred and Ginger in evening clothes for a romantic duet--it makes it part of a show-within-the-show. The situation is contrived, but the song, \"Let\\'s Face the Music and Dance\", is one of the most sinuously beautiful things Berlin ever wrote (it\\'s reminiscent of Cole Porter), and the dancing matches it in elegance. Quintessential Astaire and Rogers.  It would be a chore to sit through most of the dialogue sections of \"Follow the Fleet\" again, and, in fact, it\\'s not necessary, because the plot rarely propels the musical numbers. But I could watch the songs over and over.\\n'\n",
      "b'It was originally meant to be a film that Gene Kelly would star in, but when the makers couldn\\'t get him they got \"the greatest actor in the world\", and the result is pretty good. Basically Nathan Detroit (Frank Sinatra) is having trouble doing what he does best, setting up a high stakes crap dice game, because he needs $1000 to get the place. So to get the money he needs, he has a $1000 bet with old friend Sky Masterson (Marlon Brando) that he can\\'t get Sergeant Sarah Brown (Great Expectations\\' Golden Globe winning, and BAFTA nominated Jean Simmons) to go with him to Havana. Meanwhile, Nathan is having trouble trying to get rid of the woman who wants him to ask her hand in marriage, Miss Adelaide (Vivian Blaine). Also starring Robert Keith as Lieutenant Brannigan, Stubby Kaye as Nicely Nicely Johnson and B.S. Pulley as Big Jule. An interesting romantic comedy musical, with Brando singing all his own songs, and Sinatra being smooth and cool. It was nominated the Oscars for Best Art Direction-Set Decoration, Best Cinematography, Best Costume Design and Best Music for Jay Blackton and Cyril J. Mockridge, it was nominated the BAFTA for Best Film from any Source, and it won the Golden Globe for Best Motion Picture - Musical/Comedy. Frank Sinatra was number 43 on The 100 Greatest Pop Culture Icons, Marlon Brando was number 30 on The 100 Greatest Movie Stars, he was number 11 on The 100 Greatest Sex Symbols, he was number 4 on 100 Years, 100 Stars - Men, Sinatra was number 35, and Brando was number 1 on The World\\'s Greatest Actor, \"Luck Be a Lady\" was number 42 on 100 Years, 100 Songs for , the film was number 23 on 100 Years of Musicals, and it was number 36 on The 100 Greatest Musicals. Very good!\\n'\n",
      "b'One of the best of the Fred Astaire and Giner Rogers films. Great music by Irving Berlin. Solid support from Randolph Scott, Harriet Nelson, Lucille Ball, Betty Grable, Frank Jenks, and Astrid Allwyn.  Terrific songs include \"Let Yourself Go,\" \"Let\\'s Face the Music,\" and \"Putting All My Eggs in One Basket.\" The last song is introduced by Astaire playing a jazzy piano and then a cute dance with Rogers. Rogers also sings \"Let Yourself Go\" with Grable among the backup singers.  Harriet Nelson (then Hilliard) sings two nice songs and plays Rogers\\' mousy sister. \"Get Thee Behind Me\" is a song that sticks with you for days. She also sings \"But Where Are You?\" Snappy and fast paced, this entry in the Astaire-Rogers series is one of the better ones. The classic and amazing beautiful finale, \"Let\\'s Face the Music and Dance\" is among the best-known of their numbers. Rogers wears one of the great dresses in movie history.... a shimmering sequined number that swirls around her legs as she dances (weighted hem) and is also slightly see through. Just gorgeous. This is the number that Steve Martin and Bernadette Peters re-created in Pennies from Heaven.  Randolph Scott seems an odd choice as Astaire\\'s pal but he also appeared in their Roberta with Irene Dunne. Luckily he does not attempt to sing or dance. It seems that Grable and Ball would have had bigger parts in 1936 but they have a few scenes and make little impact. Allwyn has the bigger role but is only OK.  Rogers has one of her best solo numbers in the series with \"Let Yourself Go\".... Jazzy and thumping, it\\'s a great song.  Fun all the way, although I got tired of \"We Joined the Navy\" after the third time....\\n'\n",
      "b'ANCHORS AWEIGH is an entertaining MGM musical that fans of the genre will enjoy but I wouldn\\'t rate it up there with classics like SINGIN IN THE RAIN or THE BAND WAGON. This was the first of three musicals that Gene Kelly and Frank Sinatra appeared in together. Kelly and Sinatra play Joe Brady and Clarence Doolittle, two sailors on leave in Hollywood who befriend a young boy (Dean Stockwell)who introduces them to his attractive young aunt (Kathryn Grayson) a struggling actress who is working as an extra at MGM. Though both guys are initially attracted to Grayson, she eventually voices a preference to Joe but Clarence later hooks up with a waitress (Pamela Britton)who, he learns is from his hometown of Brooklyn. The paper-thin plot leaves room for several great musical numbers including \"We Hate to Leave\", Joe and Clarence\\'s lament to their fellow sailors as they\\'re leaving the ship; Grayson\\'s torrid rendition of \"Jalousie\"; Sinatra\\'s dreamy rendition of \"I Fall in Love Too Easily\" (a number which is sadly deleted from some prints of this film), and \"The Worry Song\", a fantasy dance that Kelly does with animated Jerry the Mouse from Tom and Jerry fame. Kelly also does a sort of Kissing Bandit fantasy ballet which rivals his Pirate\\'s Ballet in the later THE PIRATE. Kelly is in peak form here, in a robust and energetic performance that earned him his only Oscar nomination for Best Actor and Sinatra\\'s endearingly shy character here is undeniably sexy. An entertaining diversion for fans of the MGM musical factory.\\n'\n",
      "b\"One of the first of the best musicals, Anchors Aweigh features several memorable musical sequences, such as Kelly dancing with Jerry the mouse, Kelly dancing with 7-year-old Sharon McManus, Sinatra singing with Jose Iturbi playing piano, Kathryn Grayson singing with Iturbi conducting, and much more. The Technicolor is perfect, with some innovative camera work such as seeing a piano played from beneath, through transparent keys, and Grayson singing, seen through the finder of another camera. The plot is thin, but you get involved from Kelly's & Sinatra's enthusiasm. Sailor's on leave, they have to take home a runaway boy (Dean Stockwell) and Sinatra falls for his aunt. To set him up with the aunt (Grayson), Kelly suggests that Sinatra can get her an audition with Jose Iturbi. But Sinatra's young and naive in this one, and in his own sung words falls in love too fast. While they're trying to contact Iturbi, who's never available, he starts to fall for another girl (Barbara Britton); but Kelly's now falling love with Grayson. Anchors Aweigh is most often remembered for the combination live-action / cartoon sequence with Tom and Jerry, but there's a lot more here that's worth a look. I'm giving it nine stars because, while it's not quite as good as the best musicals - Singin' In The Rain, The Music Man, Oklahoma - it is one of the first of their class of Technicolor big productions (perhaps Meet Me In St. Louis was the first), and better than most others.\\n\"\n",
      "b'Had this film been put together a tad better, it would be up there with the best of Astaire and Rogers. As it is, it\\'s a fine movie but overly long with a tedious subplot, i.e., Randolph Scott romancing Rogers\\' sister, played by Harriet Hilliard (that\\'s Ozzie Nelson\\'s wife to you baby boomers).  Astaire and Scott are two Navy men. Scott meets Hilliard the first time when she looks like a stereotypical librarian, and later on after Ginger Rogers has asked her friend (a blond but unmistakable Lucille Ball) to glamor her up. Meanwhile, Astaire tries to pick up where he and his old dancing partner left off. The result is some wonderful dance numbers, with Astaire and Rogers as a team as well as separately: \"I\\'m Putting All My Eggs in One Basket,\" \"Let Yourself Go,\" and \"I\\'d Rather Lead the Band.\" Hilliard is sweet but a little lethargic as a plain Jane turned glamor girl, although she sings her two songs well, \"But Where Are You?\" and \"Get Thee Behind Me, Satan\" - one poster didn\\'t care for that song, but I love the title. Rogers is vivacious, and a youthful Astaire is a dynamo.  The highlight of the movie comes at the end with \"Let\\'s Face the Music and Dance,\" one of the most achingly beautiful songs ever written and certainly one of the most brilliantly executed by Rogers and Astaire. In it, they epitomize \\'30s glamor and fantasy. It is truly to be treasured and watched again and again.\\n'\n",
      "b'Gene Kelly, Frank Sinatra, Kathryn Grayson, and Jose Iturbi star in \"Anchors Aweigh,\" directed by George Sidney.  Kelly and Sinatra are Joe and Clarence, two navy guys on leave in Hollywood. They meet a little boy (Dean Stockwell) and on taking him home, they meet his aunt (Grayson). Clarence falls for her. She wants an audition for Jose Iturbi. They try to help, but there\\'s a mix-up.  This is a very energetic musical with great dancing and singing by Kelly and Sinatra. Kelly gets to dance with Jerry the Mouse in a delightful sequence. Grayson sings Jalousie and My Heart Sings. Not one of my favorite voices, but she does well. Iturbi\\'s piano work is beautiful.  Sinatra gets to show his versatility and why the girls swooned over him, with those big blue eyes and boyish face. For Kelly, this was a major break for him at MGM.  Wonderful movie, very buoyant.\\n'\n",
      "b'Entertaining musical where Nathan Detroit needs $1,000.00 to get up a floating crap game so he entices Sky Masterson to try and get salvation army girl, played by Jean Simmons, to go with Masterson to Havana.  5 years later, Simmons would be in the missionary again in the fabulous \"Elmer Gantry.\" There she was sister Sharon and here she is Sister Sarah. Same temperament, different story.  Frank Sinatra is that devilish Nathan Detroit. He has been engaged to Vivian Blaine for 14 years and she loathes his gambling habit.  In a real change of pace, Sky Masterson was played by Marlon Brando who actually did his own singing here!  The film is saved by superlative choreography. Those dance and singing routines are fabulous. They are especially realized by Stubby Kaye as Nicely Nicely (Johnson).  All in all, it\\'s a very nice production.\\n'\n",
      "b'Similar to \"On the Town,\" this musical about sailors on shore leave falls short of the later classic in terms of pacing and the quality of the songs, but it has its own charms. Kelly has three fabulous dance routines: one with Jerry the cartoon mouse of \"Tom and Jerry\" fame, one with a little girl, and a fantasy sequence where he is a Spanish lover determined to reach his lady on a high balcony. Sinatra, playing Kelly\\'s shy, inexperienced buddy, and Grayson, the woman who serves as the love interest for both men, do most of the singing. Iturbi provides some fine piano playing. At nearly two and half hours, it is a bit too long for a light musical but it doesn\\'t drag.\\n'\n"
     ]
    }
   ],
   "source": [
    "m = np.argsort(document_topics[:, 2])[::-1]\n",
    "for i in m[:10]:\n",
    "    print(text_train[i] + b\"\\n\")"
   ]
  },
  {
   "cell_type": "code",
   "execution_count": null,
   "metadata": {},
   "outputs": [],
   "source": [
    "fig, ax = plt.subplots(1,2, figsize=(10, 10))\n",
    "topic_names = [\"{:>2}\".format(i) + \" \".join(words) for i, words in enumerate(feature_names[sorting[:, :2]])]\n",
    "for col in [0,1]:\n",
    "    start = col * 50\n",
    "    end = (col+1) * 50\n",
    "    ax[col].barh(np.arange(50), np.sum(document_topics"
   ]
  }
 ],
 "metadata": {
  "kernelspec": {
   "display_name": "Python 3",
   "language": "python",
   "name": "python3"
  },
  "language_info": {
   "codemirror_mode": {
    "name": "ipython",
    "version": 3
   },
   "file_extension": ".py",
   "mimetype": "text/x-python",
   "name": "python",
   "nbconvert_exporter": "python",
   "pygments_lexer": "ipython3",
   "version": "3.6.3"
  }
 },
 "nbformat": 4,
 "nbformat_minor": 2
}
