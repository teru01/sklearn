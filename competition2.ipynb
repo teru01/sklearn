{
 "cells": [
  {
   "cell_type": "code",
   "execution_count": 1,
   "metadata": {},
   "outputs": [
    {
     "name": "stderr",
     "output_type": "stream",
     "text": [
      "/opt/conda/lib/python3.6/site-packages/sklearn/utils/fixes.py:313: FutureWarning: numpy not_equal will not check object identity in the future. The comparison did not return the same result as suggested by the identity (`is`)) and will change.\n",
      "  _nan_object_mask = _nan_object_array != _nan_object_array\n"
     ]
    }
   ],
   "source": [
    "import numpy as np\n",
    "import matplotlib.pyplot as plt\n",
    "import pandas as pd\n",
    "from IPython.display import display\n",
    "from sklearn import preprocessing\n",
    "from sklearn.model_selection import train_test_split\n",
    "from sklearn.model_selection import cross_val_score\n",
    "from sklearn.model_selection import GridSearchCV\n",
    "import mglearn"
   ]
  },
  {
   "cell_type": "code",
   "execution_count": 2,
   "metadata": {},
   "outputs": [],
   "source": [
    "data = np.loadtxt('data_public/data_train.csv', delimiter=',', dtype=float)\n",
    "labels = np.loadtxt('data_public/label_train.csv', dtype=float)\n",
    "test = np.loadtxt('data_public/data_test.csv', delimiter=',', dtype=float)"
   ]
  },
  {
   "cell_type": "code",
   "execution_count": 8,
   "metadata": {},
   "outputs": [],
   "source": [
    "from sklearn.neighbors import KNeighborsClassifier\n",
    "from sklearn.linear_model import LogisticRegression"
   ]
  },
  {
   "cell_type": "code",
   "execution_count": 4,
   "metadata": {},
   "outputs": [],
   "source": [
    "X_train, X_test, y_train, y_test = train_test_split(data, labels, random_state=0)"
   ]
  },
  {
   "cell_type": "code",
   "execution_count": 7,
   "metadata": {},
   "outputs": [
    {
     "data": {
      "text/plain": [
       "<matplotlib.legend.Legend at 0x7fa3113db630>"
      ]
     },
     "execution_count": 7,
     "metadata": {},
     "output_type": "execute_result"
    },
    {
     "data": {
      "image/png": "[encoded data removed]",
      "text/plain": [
       "<matplotlib.figure.Figure at 0x7fa311454f60>"
      ]
     },
     "metadata": {},
     "output_type": "display_data"
    }
   ],
   "source": [
    "training = []\n",
    "test = []\n",
    "ran = range(1,30)\n",
    "for i in ran:\n",
    "  clf = KNeighborsClassifier(n_neighbors=i).fit(X_train, y_train)\n",
    "  training.append(clf.score(X_train, y_train))\n",
    "  test.append(clf.score(X_test, y_test))\n",
    "\n",
    "plt.plot(ran, training, label='training')\n",
    "plt.plot(ran, test, label='test')\n",
    "plt.xlabel('n_neighbor')\n",
    "plt.ylabel('accuracy')\n",
    "plt.legend()"
   ]
  },
  {
   "cell_type": "code",
   "execution_count": 26,
   "metadata": {},
   "outputs": [
    {
     "data": {
      "text/plain": [
       "array([ 0.        ,  0.01010101,  0.02020202,  0.03030303,  0.04040404,\n",
       "        0.05050505,  0.06060606,  0.07070707,  0.08080808,  0.09090909,\n",
       "        0.1010101 ,  0.11111111,  0.12121212,  0.13131313,  0.14141414,\n",
       "        0.15151515,  0.16161616,  0.17171717,  0.18181818,  0.19191919,\n",
       "        0.2020202 ,  0.21212121,  0.22222222,  0.23232323,  0.24242424,\n",
       "        0.25252525,  0.26262626,  0.27272727,  0.28282828,  0.29292929,\n",
       "        0.3030303 ,  0.31313131,  0.32323232,  0.33333333,  0.34343434,\n",
       "        0.35353535,  0.36363636,  0.37373737,  0.38383838,  0.39393939,\n",
       "        0.4040404 ,  0.41414141,  0.42424242,  0.43434343,  0.44444444,\n",
       "        0.45454545,  0.46464646,  0.47474747,  0.48484848,  0.49494949,\n",
       "        0.50505051,  0.51515152,  0.52525253,  0.53535354,  0.54545455,\n",
       "        0.55555556,  0.56565657,  0.57575758,  0.58585859,  0.5959596 ,\n",
       "        0.60606061,  0.61616162,  0.62626263,  0.63636364,  0.64646465,\n",
       "        0.65656566,  0.66666667,  0.67676768,  0.68686869,  0.6969697 ,\n",
       "        0.70707071,  0.71717172,  0.72727273,  0.73737374,  0.74747475,\n",
       "        0.75757576,  0.76767677,  0.77777778,  0.78787879,  0.7979798 ,\n",
       "        0.80808081,  0.81818182,  0.82828283,  0.83838384,  0.84848485,\n",
       "        0.85858586,  0.86868687,  0.87878788,  0.88888889,  0.8989899 ,\n",
       "        0.90909091,  0.91919192,  0.92929293,  0.93939394,  0.94949495,\n",
       "        0.95959596,  0.96969697,  0.97979798,  0.98989899,  1.        ])"
      ]
     },
     "execution_count": 26,
     "metadata": {},
     "output_type": "execute_result"
    }
   ],
   "source": []
  },
  {
   "cell_type": "code",
   "execution_count": 97,
   "metadata": {},
   "outputs": [
    {
     "data": {
      "image/png": "[encoded data removed]",
      "text/plain": [
       "<matplotlib.figure.Figure at 0x7fa2e6753358>"
      ]
     },
     "metadata": {},
     "output_type": "display_data"
    }
   ],
   "source": [
    "tr = []\n",
    "test = []\n",
    "params = np.linspace(0, 1, 10000)[1:200]\n",
    "for i in params:\n",
    "    logreg = LogisticRegression(C=i, penalty=\"l2\", solver='lbfgs').fit(X_train, y_train)\n",
    "    tr.append(logreg.score(X_train, y_train))\n",
    "    test.append(logreg.score(X_test, y_test))\n",
    "plt.plot(range(1, 200), tr, label='train')\n",
    "plt.plot(range(1, 200), test, label='test')\n",
    "plt.show()"
   ]
  },
  {
   "cell_type": "code",
   "execution_count": 7,
   "metadata": {},
   "outputs": [
    {
     "name": "stdout",
     "output_type": "stream",
     "text": [
      "[ 0.49725  0.52825  0.54115  0.5421   0.4811   0.49505  0.499    0.49155\n",
      "  0.47755  0.50235  0.50715  0.4453   0.4873   0.52905  0.5451   0.5812\n",
      "  0.45565  0.44675  0.41935  0.5524   0.48635  0.4337   0.50835  0.51705\n",
      "  0.4723   0.5445   0.5008   0.52035  0.43855  0.52805  0.5232   0.52445\n",
      "  0.4556   0.47735  0.4774   0.4976   0.48195  0.51025  0.49125  0.503\n",
      "  0.5092   0.51685  0.5109   0.5204   0.5421   0.52655  0.44205  0.49815\n",
      "  0.4964   0.43155  0.4842   0.54185  0.43155  0.5238   0.44465  0.45355\n",
      "  0.51825  0.5136   0.46255  0.54645  0.50975  0.4575   0.48145  0.53145\n",
      "  0.462    0.49815  0.5139   0.46925  0.478    0.50785  0.523    0.4917\n",
      "  0.5191   0.464    0.47875  0.51615  0.48285  0.51785  0.4571   0.51705\n",
      "  0.4849   0.48995  0.507    0.56365  0.4726   0.5356   0.51085  0.51005\n",
      "  0.48925  0.53885  0.48705  0.53065  0.50795  0.52755  0.52815  0.47645\n",
      "  0.46515  0.4456   0.51235  0.499    0.4764   0.46125  0.527    0.46905\n",
      "  0.54685  0.4294   0.52035  0.5239   0.49965  0.4696   0.46765  0.5187\n",
      "  0.5041   0.4802   0.4937   0.49445  0.47325  0.5466   0.4825   0.45095\n",
      "  0.488    0.50135  0.5064   0.49575  0.5112   0.5352   0.5239   0.5477\n",
      "  0.5069   0.5187 ]\n"
     ]
    },
    {
     "data": {
      "text/plain": [
       "0.67647058823529416"
      ]
     },
     "execution_count": 7,
     "metadata": {},
     "output_type": "execute_result"
    }
   ],
   "source": [
    "from sklearn.ensemble import RandomForestClassifier\n",
    "from sklearn.metrics import roc_auc_score\n",
    "forest = RandomForestClassifier(n_estimators=20000, max_features=10, n_jobs=-1).fit(X_train, y_train)\n",
    "y_pred = forest.predict(X_test)\n",
    "res = forest.predict_proba(X_test)[:,1]\n",
    "print(res)\n",
    "roc_auc_score(y_test, res)"
   ]
  },
  {
   "cell_type": "code",
   "execution_count": 10,
   "metadata": {},
   "outputs": [
    {
     "data": {
      "text/plain": [
       "[<matplotlib.lines.Line2D at 0x7fc94083b630>]"
      ]
     },
     "execution_count": 10,
     "metadata": {},
     "output_type": "execute_result"
    },
    {
     "data": {
      "image/png": "[encoded data removed]",
      "text/plain": [
       "<matplotlib.figure.Figure at 0x7fc9401f60f0>"
      ]
     },
     "metadata": {},
     "output_type": "display_data"
    }
   ],
   "source": [
    "from sklearn.metrics import roc_curve\n",
    "fp, tp, t = roc_curve(y_test, res)\n",
    "plt.plot(fp, tp)"
   ]
  },
  {
   "cell_type": "code",
   "execution_count": 70,
   "metadata": {},
   "outputs": [],
   "source": [
    "from sklearn.svm import SVC\n",
    "from sklearn.preprocessing import MinMaxScaler, StandardScaler, RobustScaler\n",
    "scaler = StandardScaler()\n",
    "scaler.fit(X_train)\n",
    "X_train_scaled = scaler.transform(X_train)\n",
    "X_test_scaled = scaler.transform(X_test)"
   ]
  },
  {
   "cell_type": "code",
   "execution_count": 68,
   "metadata": {},
   "outputs": [
    {
     "name": "stdout",
     "output_type": "stream",
     "text": [
      "1.0\n",
      "0.584615384615\n"
     ]
    }
   ],
   "source": [
    "svm = SVC(C=5, gamma='auto')\n",
    "svm.fit(X_train_scaled, y_train)\n",
    "print(svm.score(X_train_scaled, y_train))\n",
    "print(svm.score(X_test_scaled, y_test))"
   ]
  },
  {
   "cell_type": "code",
   "execution_count": 81,
   "metadata": {},
   "outputs": [],
   "source": [
    "from sklearn.decomposition import PCA\n",
    "scaler = StandardScaler()\n",
    "data_t = scaler.fit_transform(data)\n",
    "\n",
    "pca = PCA(n_components=5)\n",
    "pca.fit(data_t)\n",
    "\n",
    "data_pca = pca.transform(data_t)\n"
   ]
  },
  {
   "cell_type": "code",
   "execution_count": 76,
   "metadata": {},
   "outputs": [],
   "source": [
    "X_train_pca, X_test_pca, y_train, y_test = train_test_split(data_pca, labels, random_state=0)"
   ]
  },
  {
   "cell_type": "code",
   "execution_count": 80,
   "metadata": {},
   "outputs": [
    {
     "name": "stdout",
     "output_type": "stream",
     "text": [
      "1.0\n",
      "0.576923076923\n"
     ]
    }
   ],
   "source": [
    "forest = RandomForestClassifier(n_estimators=8000, n_jobs=-1).fit(X_train_pca, y_train)\n",
    "print(forest.score(X_train_pca, y_train))\n",
    "print(forest.score(X_test_pca, y_test))"
   ]
  },
  {
   "cell_type": "code",
   "execution_count": 83,
   "metadata": {},
   "outputs": [
    {
     "data": {
      "image/png": "[encoded data removed]",
      "text/plain": [
       "<matplotlib.figure.Figure at 0x7fa2e8f800b8>"
      ]
     },
     "metadata": {},
     "output_type": "display_data"
    }
   ],
   "source": [
    "pca = PCA()\n",
    "pca.fit(data_t)\n",
    "ev_ratio = pca.explained_variance_ratio_\n",
    "ev_ratio = np.hstack([0,ev_ratio.cumsum()])\n",
    "plt.plot(ev_ratio)\n",
    "plt.show()"
   ]
  },
  {
   "cell_type": "code",
   "execution_count": 93,
   "metadata": {
    "collapsed": true
   },
   "outputs": [
    {
     "ename": "ValueError",
     "evalue": "Expected 2D array, got 1D array instead:\narray=[-1. -1. -1. -1. -1. -1.  1.  1.  1. -1.  1.  1. -1.  1.  1.  1.  1.  1.\n -1.  1. -1.  1. -1. -1. -1. -1.  1.  1.  1. -1.  1.  1. -1.  1.  1.  1.\n -1. -1.  1. -1. -1. -1.  1. -1. -1. -1.  1.  1. -1. -1. -1.  1. -1.  1.\n  1.  1.  1.  1. -1. -1.  1.  1.  1. -1.  1. -1. -1. -1. -1. -1. -1. -1.\n  1.  1.  1.  1. -1.  1. -1. -1.  1.  1. -1.  1. -1.  1.  1.  1.  1.  1.\n  1. -1.  1. -1. -1.  1.  1.  1.  1. -1. -1. -1. -1.  1.  1. -1. -1. -1.\n -1. -1.  1. -1.  1. -1. -1.  1.  1.  1. -1.  1. -1. -1.  1.  1.  1. -1.\n  1. -1. -1.  1. -1.  1. -1. -1.  1. -1.  1. -1. -1. -1.  1. -1.  1. -1.\n  1.  1. -1.  1. -1. -1. -1. -1. -1. -1.  1. -1.  1. -1.  1.  1.  1. -1.\n  1. -1.  1.  1. -1. -1. -1.  1. -1. -1.  1. -1. -1. -1. -1.  1. -1.  1.\n -1.  1. -1. -1.  1.  1.  1.  1.  1. -1. -1. -1.  1.  1. -1. -1. -1. -1.\n -1.  1. -1.  1. -1.  1.  1. -1.  1.  1.  1.  1.  1. -1. -1.  1. -1. -1.\n  1. -1. -1.  1.  1. -1. -1.  1. -1. -1. -1.  1.  1.  1.  1. -1. -1. -1.\n -1. -1. -1. -1. -1.  1.  1.  1.  1. -1.  1.  1.  1. -1. -1.  1.  1. -1.\n  1. -1.  1.  1.  1. -1. -1.  1. -1.  1.  1. -1.  1. -1. -1.  1.  1.  1.\n -1.  1. -1.  1.  1.  1. -1. -1.  1.  1. -1.  1.  1.  1. -1.  1. -1. -1.\n  1. -1.  1.  1.  1.  1. -1.  1. -1. -1.  1.  1. -1.  1.  1. -1.  1. -1.\n  1. -1. -1.  1. -1. -1.  1.  1. -1. -1.  1. -1. -1.  1.  1. -1.  1. -1.\n  1.  1. -1.  1. -1. -1. -1. -1.  1. -1.  1. -1. -1. -1.  1.  1.  1. -1.\n  1. -1.  1. -1. -1.  1. -1. -1. -1.  1. -1.  1. -1. -1.  1. -1. -1. -1.\n  1.  1.  1.  1.  1. -1.  1. -1.  1.  1. -1.  1.  1.  1.  1.  1. -1.  1.\n -1.  1.  1.  1. -1.  1. -1.  1.  1. -1. -1.  1.].\nReshape your data either using array.reshape(-1, 1) if your data has a single feature or array.reshape(1, -1) if it contains a single sample.",
     "output_type": "error",
     "traceback": [
      "\u001b[0;31m---------------------------------------------------------------------------\u001b[0m",
      "\u001b[0;31mValueError\u001b[0m                                Traceback (most recent call last)",
      "\u001b[0;32m<ipython-input-93-476c785b2b05>\u001b[0m in \u001b[0;36m<module>\u001b[0;34m()\u001b[0m\n\u001b[1;32m      4\u001b[0m \u001b[0mpoly\u001b[0m\u001b[0;34m.\u001b[0m\u001b[0mfit\u001b[0m\u001b[0;34m(\u001b[0m\u001b[0mX_train\u001b[0m\u001b[0;34m)\u001b[0m\u001b[0;34m\u001b[0m\u001b[0m\n\u001b[1;32m      5\u001b[0m \u001b[0mX_poly\u001b[0m \u001b[0;34m=\u001b[0m \u001b[0mpoly\u001b[0m\u001b[0;34m.\u001b[0m\u001b[0mtransform\u001b[0m\u001b[0;34m(\u001b[0m\u001b[0mX_train\u001b[0m\u001b[0;34m)\u001b[0m\u001b[0;34m\u001b[0m\u001b[0m\n\u001b[0;32m----> 6\u001b[0;31m \u001b[0my_poly\u001b[0m \u001b[0;34m=\u001b[0m \u001b[0mpoly\u001b[0m\u001b[0;34m.\u001b[0m\u001b[0mtransform\u001b[0m\u001b[0;34m(\u001b[0m\u001b[0my_train\u001b[0m\u001b[0;34m)\u001b[0m\u001b[0;34m\u001b[0m\u001b[0m\n\u001b[0m",
      "\u001b[0;32m/opt/conda/lib/python3.6/site-packages/sklearn/preprocessing/data.py\u001b[0m in \u001b[0;36mtransform\u001b[0;34m(self, X)\u001b[0m\n\u001b[1;32m   1455\u001b[0m         \u001b[0mcheck_is_fitted\u001b[0m\u001b[0;34m(\u001b[0m\u001b[0mself\u001b[0m\u001b[0;34m,\u001b[0m \u001b[0;34m[\u001b[0m\u001b[0;34m'n_input_features_'\u001b[0m\u001b[0;34m,\u001b[0m \u001b[0;34m'n_output_features_'\u001b[0m\u001b[0;34m]\u001b[0m\u001b[0;34m)\u001b[0m\u001b[0;34m\u001b[0m\u001b[0m\n\u001b[1;32m   1456\u001b[0m \u001b[0;34m\u001b[0m\u001b[0m\n\u001b[0;32m-> 1457\u001b[0;31m         \u001b[0mX\u001b[0m \u001b[0;34m=\u001b[0m \u001b[0mcheck_array\u001b[0m\u001b[0;34m(\u001b[0m\u001b[0mX\u001b[0m\u001b[0;34m,\u001b[0m \u001b[0mdtype\u001b[0m\u001b[0;34m=\u001b[0m\u001b[0mFLOAT_DTYPES\u001b[0m\u001b[0;34m,\u001b[0m \u001b[0maccept_sparse\u001b[0m\u001b[0;34m=\u001b[0m\u001b[0;34m'csc'\u001b[0m\u001b[0;34m)\u001b[0m\u001b[0;34m\u001b[0m\u001b[0m\n\u001b[0m\u001b[1;32m   1458\u001b[0m         \u001b[0mn_samples\u001b[0m\u001b[0;34m,\u001b[0m \u001b[0mn_features\u001b[0m \u001b[0;34m=\u001b[0m \u001b[0mX\u001b[0m\u001b[0;34m.\u001b[0m\u001b[0mshape\u001b[0m\u001b[0;34m\u001b[0m\u001b[0m\n\u001b[1;32m   1459\u001b[0m \u001b[0;34m\u001b[0m\u001b[0m\n",
      "\u001b[0;32m/opt/conda/lib/python3.6/site-packages/sklearn/utils/validation.py\u001b[0m in \u001b[0;36mcheck_array\u001b[0;34m(array, accept_sparse, accept_large_sparse, dtype, order, copy, force_all_finite, ensure_2d, allow_nd, ensure_min_samples, ensure_min_features, warn_on_dtype, estimator)\u001b[0m\n\u001b[1;32m    545\u001b[0m                     \u001b[0;34m\"Reshape your data either using array.reshape(-1, 1) if \"\u001b[0m\u001b[0;34m\u001b[0m\u001b[0m\n\u001b[1;32m    546\u001b[0m                     \u001b[0;34m\"your data has a single feature or array.reshape(1, -1) \"\u001b[0m\u001b[0;34m\u001b[0m\u001b[0m\n\u001b[0;32m--> 547\u001b[0;31m                     \"if it contains a single sample.\".format(array))\n\u001b[0m\u001b[1;32m    548\u001b[0m \u001b[0;34m\u001b[0m\u001b[0m\n\u001b[1;32m    549\u001b[0m         \u001b[0;31m# in the future np.flexible dtypes will be handled like object dtypes\u001b[0m\u001b[0;34m\u001b[0m\u001b[0;34m\u001b[0m\u001b[0m\n",
      "\u001b[0;31mValueError\u001b[0m: Expected 2D array, got 1D array instead:\narray=[-1. -1. -1. -1. -1. -1.  1.  1.  1. -1.  1.  1. -1.  1.  1.  1.  1.  1.\n -1.  1. -1.  1. -1. -1. -1. -1.  1.  1.  1. -1.  1.  1. -1.  1.  1.  1.\n -1. -1.  1. -1. -1. -1.  1. -1. -1. -1.  1.  1. -1. -1. -1.  1. -1.  1.\n  1.  1.  1.  1. -1. -1.  1.  1.  1. -1.  1. -1. -1. -1. -1. -1. -1. -1.\n  1.  1.  1.  1. -1.  1. -1. -1.  1.  1. -1.  1. -1.  1.  1.  1.  1.  1.\n  1. -1.  1. -1. -1.  1.  1.  1.  1. -1. -1. -1. -1.  1.  1. -1. -1. -1.\n -1. -1.  1. -1.  1. -1. -1.  1.  1.  1. -1.  1. -1. -1.  1.  1.  1. -1.\n  1. -1. -1.  1. -1.  1. -1. -1.  1. -1.  1. -1. -1. -1.  1. -1.  1. -1.\n  1.  1. -1.  1. -1. -1. -1. -1. -1. -1.  1. -1.  1. -1.  1.  1.  1. -1.\n  1. -1.  1.  1. -1. -1. -1.  1. -1. -1.  1. -1. -1. -1. -1.  1. -1.  1.\n -1.  1. -1. -1.  1.  1.  1.  1.  1. -1. -1. -1.  1.  1. -1. -1. -1. -1.\n -1.  1. -1.  1. -1.  1.  1. -1.  1.  1.  1.  1.  1. -1. -1.  1. -1. -1.\n  1. -1. -1.  1.  1. -1. -1.  1. -1. -1. -1.  1.  1.  1.  1. -1. -1. -1.\n -1. -1. -1. -1. -1.  1.  1.  1.  1. -1.  1.  1.  1. -1. -1.  1.  1. -1.\n  1. -1.  1.  1.  1. -1. -1.  1. -1.  1.  1. -1.  1. -1. -1.  1.  1.  1.\n -1.  1. -1.  1.  1.  1. -1. -1.  1.  1. -1.  1.  1.  1. -1.  1. -1. -1.\n  1. -1.  1.  1.  1.  1. -1.  1. -1. -1.  1.  1. -1.  1.  1. -1.  1. -1.\n  1. -1. -1.  1. -1. -1.  1.  1. -1. -1.  1. -1. -1.  1.  1. -1.  1. -1.\n  1.  1. -1.  1. -1. -1. -1. -1.  1. -1.  1. -1. -1. -1.  1.  1.  1. -1.\n  1. -1.  1. -1. -1.  1. -1. -1. -1.  1. -1.  1. -1. -1.  1. -1. -1. -1.\n  1.  1.  1.  1.  1. -1.  1. -1.  1.  1. -1.  1.  1.  1.  1.  1. -1.  1.\n -1.  1.  1.  1. -1.  1. -1.  1.  1. -1. -1.  1.].\nReshape your data either using array.reshape(-1, 1) if your data has a single feature or array.reshape(1, -1) if it contains a single sample."
     ]
    }
   ],
   "source": [
    "from sklearn.linear_model import RidgeClassifier\n",
    "from sklearn.preprocessing import PolynomialFeatures\n",
    "poly = PolynomialFeatures(degree=3, include_bias=False)\n",
    "poly.fit(X_train)\n",
    "X_train_p = poly.transform(X_train)\n",
    "X_test_p = poly.transform(y_train)\n"
   ]
  },
  {
   "cell_type": "code",
   "execution_count": 105,
   "metadata": {},
   "outputs": [
    {
     "data": {
      "text/plain": [
       "(390, 200)"
      ]
     },
     "execution_count": 105,
     "metadata": {},
     "output_type": "execute_result"
    }
   ],
   "source": [
    "from sklearn.feature_selection import SelectPercentile\n",
    "select = SelectPercentile(percentile=40)\n",
    "select.fit(X_train, y_train)\n",
    "X_train_selected = select.transform(X_train)\n",
    "X_train_selected.shape"
   ]
  },
  {
   "cell_type": "code",
   "execution_count": 98,
   "metadata": {},
   "outputs": [
    {
     "name": "stdout",
     "output_type": "stream",
     "text": [
      "0.989743589744\n",
      "0.569230769231\n"
     ]
    }
   ],
   "source": [
    "logreg = LogisticRegression(C=0.025, penalty=\"l2\", solver='lbfgs').fit(X_train, y_train)\n",
    "print(logreg.score(X_train, y_train))\n",
    "print(logreg.score(X_test, y_test))"
   ]
  },
  {
   "cell_type": "code",
   "execution_count": 109,
   "metadata": {},
   "outputs": [
    {
     "name": "stdout",
     "output_type": "stream",
     "text": [
      "0.938461538462\n",
      "0.546153846154\n"
     ]
    }
   ],
   "source": [
    "logreg = LogisticRegression(C=0.1, penalty=\"l2\", solver='lbfgs').fit(X_train_selected, y_train)\n",
    "X_test_selected = select.transform(X_test)\n",
    "print(logreg.score(X_train_selected, y_train))\n",
    "print(logreg.score(X_test_selected, y_test))"
   ]
  },
  {
   "cell_type": "code",
   "execution_count": 118,
   "metadata": {},
   "outputs": [
    {
     "name": "stdout",
     "output_type": "stream",
     "text": [
      "0.933333333333\n",
      "0.561538461538\n"
     ]
    }
   ],
   "source": [
    "from sklearn.feature_selection import SelectFromModel\n",
    "sel = SelectFromModel(RandomForestClassifier(n_estimators=1000), threshold='median')\n",
    "sel.fit(X_train, y_train)\n",
    "X_train_l1 = sel.transform(X_train)\n",
    "# print(X_train_l1.shape)\n",
    "logreg = LogisticRegression(C=0.1, penalty=\"l2\", solver='lbfgs').fit(X_train_l1, y_train)\n",
    "X_test_l1 = sel.transform(X_test)\n",
    "print(logreg.score(X_train_l1, y_train))\n",
    "print(logreg.score(X_test_l1, y_test))"
   ]
  },
  {
   "cell_type": "code",
   "execution_count": 119,
   "metadata": {},
   "outputs": [
    {
     "name": "stdout",
     "output_type": "stream",
     "text": [
      "0.935897435897\n",
      "0.515384615385\n"
     ]
    }
   ],
   "source": [
    "from sklearn.feature_selection import RFE\n",
    "sel = RFE(RandomForestClassifier(n_estimators=100), n_features_to_select=200)\n",
    "sel.fit(X_train, y_train)\n",
    "X_train_l1 = sel.transform(X_train)\n",
    "# print(X_train_l1.shape)\n",
    "logreg = LogisticRegression(C=0.1, penalty=\"l2\", solver='lbfgs').fit(X_train_l1, y_train)\n",
    "X_test_l1 = sel.transform(X_test)\n",
    "print(logreg.score(X_train_l1, y_train))\n",
    "print(logreg.score(X_test_l1, y_test))"
   ]
  },
  {
   "cell_type": "code",
   "execution_count": 125,
   "metadata": {},
   "outputs": [
    {
     "name": "stdout",
     "output_type": "stream",
     "text": [
      "0.532692307692\n"
     ]
    }
   ],
   "source": [
    "from sklearn.model_selection import cross_val_score\n",
    "from sklearn.model_selection import LeaveOneOut\n",
    "loo = LeaveOneOut()\n",
    "scores = cross_val_score(LogisticRegression(C=0.03, penalty=\"l2\", solver='lbfgs'), data, labels, cv=loo)\n",
    "print(scores.mean())"
   ]
  },
  {
   "cell_type": "code",
   "execution_count": 127,
   "metadata": {},
   "outputs": [
    {
     "data": {
      "text/plain": [
       "(130, 500)"
      ]
     },
     "execution_count": 127,
     "metadata": {},
     "output_type": "execute_result"
    }
   ],
   "source": [
    "X_test.shape"
   ]
  },
  {
   "cell_type": "code",
   "execution_count": 171,
   "metadata": {},
   "outputs": [],
   "source": [
    "scaler = StandardScaler()\n",
    "scaler.fit(X_train)\n",
    "X_train_scaled = scaler.transform(X_train)\n",
    "X_test_scaled = scaler.transform(X_test)\n",
    "test_scaled = scaler.transform(test)"
   ]
  },
  {
   "cell_type": "code",
   "execution_count": 132,
   "metadata": {},
   "outputs": [
    {
     "data": {
      "text/plain": [
       "array([[-0.77260464,  0.03121895, -0.68857331, ..., -0.44669161,\n",
       "        -0.50913696, -2.29658265],\n",
       "       [-1.10083537,  1.24682414,  0.15074498, ...,  1.49657613,\n",
       "        -0.97279935,  0.39541787],\n",
       "       [ 0.21208755,  0.86004067,  1.11349244, ..., -1.20710073,\n",
       "        -0.04547458,  0.76771581],\n",
       "       ..., \n",
       "       [ 2.40029242, -0.32793713,  0.94069161, ..., -0.108732  ,\n",
       "         0.4181878 , -1.38015694],\n",
       "       [ 0.5950234 , -0.18980017, -2.04629408, ...,  1.07412662,\n",
       "         1.34551257,  0.82499242],\n",
       "       [ 0.29414523, -0.60421103,  0.57040413, ..., -0.61567142,\n",
       "         0.4181878 , -1.0651356 ]])"
      ]
     },
     "execution_count": 132,
     "metadata": {},
     "output_type": "execute_result"
    }
   ],
   "source": [
    "X_train"
   ]
  },
  {
   "cell_type": "code",
   "execution_count": 147,
   "metadata": {},
   "outputs": [
    {
     "name": "stderr",
     "output_type": "stream",
     "text": [
      "/opt/conda/lib/python3.6/site-packages/sklearn/model_selection/_search.py:841: DeprecationWarning: The default of the `iid` parameter will change from True to False in version 0.22 and will be removed in 0.24. This will change numeric results when test-set sizes are unequal.\n",
      "  DeprecationWarning)\n"
     ]
    },
    {
     "data": {
      "text/plain": [
       "0.57692307692307687"
      ]
     },
     "execution_count": 147,
     "metadata": {},
     "output_type": "execute_result"
    }
   ],
   "source": [
    "param_grid = {'C':[10**4, 10**5, 10**6, 10**7], 'gamma':[1e-04, 1e-03, 1e-02, 1e-01]}\n",
    "from sklearn.model_selection import GridSearchCV\n",
    "grid_s = GridSearchCV(SVC(), param_grid, cv=5).fit(X_train_scaled, y_train)\n",
    "grid_s.score(X_test_scaled, y_test)"
   ]
  },
  {
   "cell_type": "code",
   "execution_count": 135,
   "metadata": {},
   "outputs": [
    {
     "data": {
      "text/plain": [
       "SVC(C=10, cache_size=200, class_weight=None, coef0=0.0,\n",
       "  decision_function_shape='ovr', degree=3, gamma=0.001, kernel='rbf',\n",
       "  max_iter=-1, probability=False, random_state=None, shrinking=True,\n",
       "  tol=0.001, verbose=False)"
      ]
     },
     "execution_count": 135,
     "metadata": {},
     "output_type": "execute_result"
    }
   ],
   "source": [
    "grid_s.best_estimator_"
   ]
  },
  {
   "cell_type": "code",
   "execution_count": 148,
   "metadata": {},
   "outputs": [
    {
     "name": "stderr",
     "output_type": "stream",
     "text": [
      "/opt/conda/lib/python3.6/site-packages/sklearn/utils/deprecation.py:125: FutureWarning: You are accessing a training score ('mean_train_score'), which will not be available by default any more in 0.21. If you need training scores, please set return_train_score=True\n",
      "  warnings.warn(*warn_args, **warn_kwargs)\n",
      "/opt/conda/lib/python3.6/site-packages/sklearn/utils/deprecation.py:125: FutureWarning: You are accessing a training score ('split0_train_score'), which will not be available by default any more in 0.21. If you need training scores, please set return_train_score=True\n",
      "  warnings.warn(*warn_args, **warn_kwargs)\n",
      "/opt/conda/lib/python3.6/site-packages/sklearn/utils/deprecation.py:125: FutureWarning: You are accessing a training score ('split1_train_score'), which will not be available by default any more in 0.21. If you need training scores, please set return_train_score=True\n",
      "  warnings.warn(*warn_args, **warn_kwargs)\n",
      "/opt/conda/lib/python3.6/site-packages/sklearn/utils/deprecation.py:125: FutureWarning: You are accessing a training score ('split2_train_score'), which will not be available by default any more in 0.21. If you need training scores, please set return_train_score=True\n",
      "  warnings.warn(*warn_args, **warn_kwargs)\n",
      "/opt/conda/lib/python3.6/site-packages/sklearn/utils/deprecation.py:125: FutureWarning: You are accessing a training score ('split3_train_score'), which will not be available by default any more in 0.21. If you need training scores, please set return_train_score=True\n",
      "  warnings.warn(*warn_args, **warn_kwargs)\n",
      "/opt/conda/lib/python3.6/site-packages/sklearn/utils/deprecation.py:125: FutureWarning: You are accessing a training score ('split4_train_score'), which will not be available by default any more in 0.21. If you need training scores, please set return_train_score=True\n",
      "  warnings.warn(*warn_args, **warn_kwargs)\n",
      "/opt/conda/lib/python3.6/site-packages/sklearn/utils/deprecation.py:125: FutureWarning: You are accessing a training score ('std_train_score'), which will not be available by default any more in 0.21. If you need training scores, please set return_train_score=True\n",
      "  warnings.warn(*warn_args, **warn_kwargs)\n"
     ]
    },
    {
     "data": {
      "text/plain": [
       "<matplotlib.collections.PolyCollection at 0x7fa2f1f360f0>"
      ]
     },
     "execution_count": 148,
     "metadata": {},
     "output_type": "execute_result"
    },
    {
     "data": {
      "image/png": "[encoded data removed]",
      "text/plain": [
       "<matplotlib.figure.Figure at 0x7fa3080fbfd0>"
      ]
     },
     "metadata": {},
     "output_type": "display_data"
    }
   ],
   "source": [
    "results = pd.DataFrame(grid_s.cv_results_)\n",
    "scores = np.array(results.mean_test_score).reshape(4,4)\n",
    "mglearn.tools.heatmap(scores, xlabel='gamma', xticklabels=param_grid['gamma'], yticklabels=param_grid['C'], ylabel='C', cmap='viridis')"
   ]
  },
  {
   "cell_type": "code",
   "execution_count": 155,
   "metadata": {},
   "outputs": [
    {
     "ename": "AttributeError",
     "evalue": "'list' object has no attribute 'shape'",
     "output_type": "error",
     "traceback": [
      "\u001b[0;31m---------------------------------------------------------------------------\u001b[0m",
      "\u001b[0;31mAttributeError\u001b[0m                            Traceback (most recent call last)",
      "\u001b[0;32m<ipython-input-155-a6ae8cdf6f25>\u001b[0m in \u001b[0;36m<module>\u001b[0;34m()\u001b[0m\n\u001b[1;32m      1\u001b[0m \u001b[0my_pred\u001b[0m \u001b[0;34m=\u001b[0m \u001b[0mgrid_s\u001b[0m\u001b[0;34m.\u001b[0m\u001b[0mpredict\u001b[0m\u001b[0;34m(\u001b[0m\u001b[0mX_test_scaled\u001b[0m\u001b[0;34m)\u001b[0m\u001b[0;34m\u001b[0m\u001b[0m\n\u001b[1;32m      2\u001b[0m \u001b[0my_pred\u001b[0m\u001b[0;34m.\u001b[0m\u001b[0mshape\u001b[0m\u001b[0;34m\u001b[0m\u001b[0m\n\u001b[0;32m----> 3\u001b[0;31m \u001b[0mtest\u001b[0m\u001b[0;34m.\u001b[0m\u001b[0mshape\u001b[0m\u001b[0;34m\u001b[0m\u001b[0m\n\u001b[0m",
      "\u001b[0;31mAttributeError\u001b[0m: 'list' object has no attribute 'shape'"
     ]
    }
   ],
   "source": [
    "y_pred = grid_s.predict(X_test_scaled)\n",
    "y_pred.shape\n",
    "test.shape"
   ]
  },
  {
   "cell_type": "code",
   "execution_count": 156,
   "metadata": {},
   "outputs": [],
   "source": [
    "from sklearn.metrics import confusion_matrix\n",
    "conf = confusion_matrix(y_test, y_pred)"
   ]
  },
  {
   "cell_type": "code",
   "execution_count": 162,
   "metadata": {},
   "outputs": [
    {
     "name": "stdout",
     "output_type": "stream",
     "text": [
      "              precision    recall  f1-score   support\n",
      "\n",
      "        -1.0       0.62      0.61      0.62        62\n",
      "         1.0       0.65      0.66      0.66        68\n",
      "\n",
      "   micro avg       0.64      0.64      0.64       130\n",
      "   macro avg       0.64      0.64      0.64       130\n",
      "weighted avg       0.64      0.64      0.64       130\n",
      "\n"
     ]
    }
   ],
   "source": [
    "conf = confusion_matrix(y_test, y_pred)\n",
    "from sklearn.metrics import classification_report\n",
    "print(classification_report(y_test, y_pred))"
   ]
  },
  {
   "cell_type": "code",
   "execution_count": 28,
   "metadata": {},
   "outputs": [
    {
     "name": "stdout",
     "output_type": "stream",
     "text": [
      "[ 0.49195  0.52295  0.54525  0.54245  0.47965  0.4929   0.49365  0.4994\n",
      "  0.48135  0.4969   0.50525  0.45095  0.4982   0.52855  0.5363   0.5772\n",
      "  0.4565   0.4448   0.43245  0.55935  0.4825   0.43305  0.49895  0.5153\n",
      "  0.47515  0.54325  0.5017   0.5173   0.43325  0.5256   0.5202   0.51575\n",
      "  0.4638   0.4706   0.4758   0.49095  0.48575  0.50585  0.4881   0.5092\n",
      "  0.50905  0.5175   0.51345  0.51875  0.5437   0.51335  0.44635  0.4964\n",
      "  0.4934   0.4412   0.47705  0.5352   0.43735  0.5229   0.44285  0.4646\n",
      "  0.52     0.5134   0.46995  0.5531   0.5084   0.4619   0.47985  0.53465\n",
      "  0.46615  0.5054   0.517    0.47355  0.4871   0.50945  0.5226   0.4866\n",
      "  0.52215  0.4637   0.4782   0.5187   0.4846   0.51215  0.4546   0.515\n",
      "  0.4829   0.49205  0.5026   0.5651   0.47205  0.5385   0.5153   0.51565\n",
      "  0.49125  0.53775  0.47965  0.53185  0.5037   0.52725  0.5346   0.4834\n",
      "  0.46275  0.4452   0.51285  0.505    0.4833   0.4527   0.52315  0.4631\n",
      "  0.54155  0.43125  0.5167   0.5295   0.49525  0.47115  0.46815  0.5145\n",
      "  0.5106   0.48285  0.5017   0.4969   0.47585  0.55365  0.4852   0.43235\n",
      "  0.5029   0.4963   0.51155  0.49135  0.51485  0.53755  0.51685  0.54475\n",
      "  0.50915  0.5125 ]\n",
      "[-1.  1.  1.  1. -1. -1. -1. -1. -1. -1.  1. -1. -1.  1.  1.  1. -1. -1.\n",
      " -1.  1. -1. -1. -1.  1. -1.  1.  1.  1. -1.  1.  1.  1. -1. -1. -1. -1.\n",
      " -1.  1. -1.  1.  1.  1.  1.  1.  1.  1. -1. -1. -1. -1. -1.  1. -1.  1.\n",
      " -1. -1.  1.  1. -1.  1.  1. -1. -1.  1. -1.  1.  1. -1. -1.  1.  1. -1.\n",
      "  1. -1. -1.  1. -1.  1. -1.  1. -1. -1.  1.  1. -1.  1.  1.  1. -1.  1.\n",
      " -1.  1.  1.  1.  1. -1. -1. -1.  1.  1. -1. -1.  1. -1.  1. -1.  1.  1.\n",
      " -1. -1. -1.  1.  1. -1.  1. -1. -1.  1. -1. -1.  1. -1.  1. -1.  1.  1.\n",
      "  1.  1.  1.  1.]\n"
     ]
    }
   ],
   "source": [
    "from sklearn.metrics import roc_auc_score\n",
    "\n",
    "print(forest.predict_proba(X_test)[:,1])\n",
    "print(forest.predict(X_test))\n",
    "# res = forest.predict_proba(test)[:,1]\n",
    "# np.savetxt('result4.csv', res, delimiter=',', fmt='%f')"
   ]
  },
  {
   "cell_type": "code",
   "execution_count": 172,
   "metadata": {},
   "outputs": [
    {
     "name": "stdout",
     "output_type": "stream",
     "text": [
      "0.601043643264\n"
     ]
    }
   ],
   "source": [
    "print(roc_auc_score(y_test, grid_s.best_estimator_.decision_function(X_test_scaled)))\n",
    "\n",
    "res = grid_s.best_estimator_.predict(test_scaled)\n",
    "np.savetxt('result3.csv', res, delimiter=',', fmt='%d')"
   ]
  },
  {
   "cell_type": "code",
   "execution_count": 173,
   "metadata": {},
   "outputs": [
    {
     "data": {
      "text/plain": [
       "(520, 500)"
      ]
     },
     "execution_count": 173,
     "metadata": {},
     "output_type": "execute_result"
    }
   ],
   "source": [
    "test_scaled.shape"
   ]
  },
  {
   "cell_type": "code",
   "execution_count": 26,
   "metadata": {},
   "outputs": [],
   "source": [
    "forest = RandomForestClassifier(n_estimators=20000, max_features=10, n_jobs=-1).fit(X_train, y_train)"
   ]
  },
  {
   "cell_type": "code",
   "execution_count": 27,
   "metadata": {},
   "outputs": [
    {
     "data": {
      "text/plain": [
       "[<matplotlib.lines.Line2D at 0x7f362e911080>]"
      ]
     },
     "execution_count": 27,
     "metadata": {},
     "output_type": "execute_result"
    },
    {
     "data": {
      "image/png": "[encoded data removed]",
      "text/plain": [
       "<matplotlib.figure.Figure at 0x7f362ef3f748>"
      ]
     },
     "metadata": {},
     "output_type": "display_data"
    }
   ],
   "source": [
    "from sklearn.metrics import roc_curve\n",
    "fpr, tpr, thre = roc_curve(y_test, forest.predict_proba(X_test)[:,1])\n",
    "plt.plot(fpr, tpr)"
   ]
  },
  {
   "cell_type": "code",
   "execution_count": 12,
   "metadata": {},
   "outputs": [],
   "source": [
    "np.savetxt('result4.csv', res, delimiter=',', fmt='%f')"
   ]
  },
  {
   "cell_type": "code",
   "execution_count": 32,
   "metadata": {},
   "outputs": [
    {
     "data": {
      "text/plain": [
       "264"
      ]
     },
     "execution_count": 32,
     "metadata": {},
     "output_type": "execute_result"
    }
   ],
   "source": [
    "sum(labels == 1)"
   ]
  },
  {
   "cell_type": "code",
   "execution_count": 34,
   "metadata": {},
   "outputs": [],
   "source": [
    "pred = forest.predict_proba(X_test)"
   ]
  },
  {
   "cell_type": "code",
   "execution_count": 40,
   "metadata": {},
   "outputs": [
    {
     "data": {
      "text/plain": [
       "0.65601345668629107"
      ]
     },
     "execution_count": 40,
     "metadata": {},
     "output_type": "execute_result"
    }
   ],
   "source": [
    "roc_auc_score(y_test[60:], pred[60:,1])"
   ]
  },
  {
   "cell_type": "code",
   "execution_count": 41,
   "metadata": {},
   "outputs": [
    {
     "data": {
      "text/plain": [
       "array([-1., -1., -1.,  1.,  1.,  1., -1.,  1., -1.,  1., -1., -1.,  1.,\n",
       "        1.,  1.,  1., -1., -1., -1.,  1.,  1.,  1., -1.,  1., -1.,  1.,\n",
       "       -1., -1., -1.,  1.,  1.,  1., -1., -1., -1., -1., -1., -1., -1.,\n",
       "       -1.,  1., -1.,  1.,  1.,  1.,  1., -1., -1., -1.,  1., -1., -1.,\n",
       "       -1., -1.,  1.,  1., -1.,  1., -1.,  1., -1., -1.,  1.,  1., -1.,\n",
       "        1.,  1.,  1.,  1.,  1.,  1.,  1.,  1.,  1.,  1., -1.,  1., -1.,\n",
       "       -1., -1., -1., -1.,  1.,  1., -1.,  1.,  1.,  1.,  1.,  1.,  1.,\n",
       "        1.,  1.,  1., -1., -1.,  1.,  1., -1., -1., -1., -1.,  1.,  1.,\n",
       "        1., -1.,  1., -1., -1., -1., -1.,  1., -1.,  1., -1.,  1., -1.,\n",
       "        1.,  1., -1., -1.,  1.,  1., -1.,  1.,  1.,  1., -1.,  1., -1.])"
      ]
     },
     "execution_count": 41,
     "metadata": {},
     "output_type": "execute_result"
    }
   ],
   "source": []
  },
  {
   "cell_type": "code",
   "execution_count": null,
   "metadata": {},
   "outputs": [],
   "source": []
  }
 ],
 "metadata": {
  "kernelspec": {
   "display_name": "Python 3",
   "language": "python",
   "name": "python3"
  },
  "language_info": {
   "codemirror_mode": {
    "name": "ipython",
    "version": 3
   },
   "file_extension": ".py",
   "mimetype": "text/x-python",
   "name": "python",
   "nbconvert_exporter": "python",
   "pygments_lexer": "ipython3",
   "version": "3.6.3"
  }
 },
 "nbformat": 4,
 "nbformat_minor": 2
}
